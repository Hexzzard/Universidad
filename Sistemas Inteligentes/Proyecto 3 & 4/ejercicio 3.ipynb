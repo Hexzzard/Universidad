{
 "cells": [
  {
   "cell_type": "code",
   "execution_count": 2,
   "id": "ba523b55",
   "metadata": {},
   "outputs": [
    {
     "name": "stdout",
     "output_type": "stream",
     "text": [
      "Altura de 1.58 => Peso de  58.47598627787306\n",
      "Altura de 1.62 => Peso de  62.608404802744445\n",
      "Altura de 1.69 => Peso de  69.84013722126929\n",
      "Altura de 1.76 => Peso de  77.07186963979416\n",
      "Altura de 1.82 => Peso de  83.27049742710119\n"
     ]
    }
   ],
   "source": [
    "from sklearn.linear_model import LinearRegression\n",
    "import numpy as np\n",
    "\n",
    "#generamos los arreglos con la informacion entregada\n",
    "data = np.array([[1.60,60],[1.65,65],[1.70,72.3],[1.73,75],[1.80,80]])\n",
    "test = np.array([1.58, 1.62, 1.69, 1.76, 1.82])\n",
    "\n",
    "#creamos nuestra regresion lineal de Sklearn\n",
    "reg = LinearRegression().fit(data[:,0].reshape(-1,1),data[:,1])\n",
    "\n",
    "#realizamos predicciones con los datos de prueba\n",
    "prediccion = reg.predict(test.reshape(-1,1))\n",
    "#imprimimos los valores predichos\n",
    "for i in range(len(prediccion)):\n",
    "    print(\"Altura de\",test[i],\"=> Peso de \", prediccion[i])\n"
   ]
  },
  {
   "cell_type": "code",
   "execution_count": 3,
   "id": "ba0badd8",
   "metadata": {},
   "outputs": [
    {
     "name": "stdout",
     "output_type": "stream",
     "text": [
      "RSS = 5.336432246998307\n"
     ]
    }
   ],
   "source": [
    "#calculamos el RSS, (rest sum square), es decir la suma residual al cuadrado\n",
    "\n",
    "#calculamos cuanto nos da nuestra regresion en los puntos conocidos\n",
    "aprox = reg.predict(data[:,0].reshape(-1,1))\n",
    "\n",
    "#iteramos por cada uno de los valores calculando la diferencia al cuadrado de cada uno\n",
    "RSS = 0\n",
    "for i in range(5):\n",
    "    RSS += (data[:,1][i] - aprox[i])**2\n",
    "print(\"RSS =\",RSS)"
   ]
  },
  {
   "cell_type": "code",
   "execution_count": null,
   "id": "267871e8",
   "metadata": {},
   "outputs": [],
   "source": []
  }
 ],
 "metadata": {
  "kernelspec": {
   "display_name": "Python 3 (ipykernel)",
   "language": "python",
   "name": "python3"
  },
  "language_info": {
   "codemirror_mode": {
    "name": "ipython",
    "version": 3
   },
   "file_extension": ".py",
   "mimetype": "text/x-python",
   "name": "python",
   "nbconvert_exporter": "python",
   "pygments_lexer": "ipython3",
   "version": "3.9.13"
  }
 },
 "nbformat": 4,
 "nbformat_minor": 5
}
