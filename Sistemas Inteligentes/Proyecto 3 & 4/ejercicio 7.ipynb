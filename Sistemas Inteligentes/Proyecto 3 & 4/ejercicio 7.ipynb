{
 "cells": [
  {
   "cell_type": "code",
   "execution_count": 1,
   "id": "4011b19e",
   "metadata": {},
   "outputs": [
    {
     "data": {
      "text/html": [
       "<div>\n",
       "<style scoped>\n",
       "    .dataframe tbody tr th:only-of-type {\n",
       "        vertical-align: middle;\n",
       "    }\n",
       "\n",
       "    .dataframe tbody tr th {\n",
       "        vertical-align: top;\n",
       "    }\n",
       "\n",
       "    .dataframe thead th {\n",
       "        text-align: right;\n",
       "    }\n",
       "</style>\n",
       "<table border=\"1\" class=\"dataframe\">\n",
       "  <thead>\n",
       "    <tr style=\"text-align: right;\">\n",
       "      <th></th>\n",
       "      <th>sepal length (cm)</th>\n",
       "      <th>sepal width (cm)</th>\n",
       "      <th>petal length (cm)</th>\n",
       "      <th>petal width (cm)</th>\n",
       "      <th>target</th>\n",
       "    </tr>\n",
       "  </thead>\n",
       "  <tbody>\n",
       "    <tr>\n",
       "      <th>0</th>\n",
       "      <td>5.1</td>\n",
       "      <td>3.5</td>\n",
       "      <td>1.4</td>\n",
       "      <td>0.2</td>\n",
       "      <td>0.0</td>\n",
       "    </tr>\n",
       "    <tr>\n",
       "      <th>1</th>\n",
       "      <td>4.9</td>\n",
       "      <td>3.0</td>\n",
       "      <td>1.4</td>\n",
       "      <td>0.2</td>\n",
       "      <td>0.0</td>\n",
       "    </tr>\n",
       "    <tr>\n",
       "      <th>2</th>\n",
       "      <td>4.7</td>\n",
       "      <td>3.2</td>\n",
       "      <td>1.3</td>\n",
       "      <td>0.2</td>\n",
       "      <td>0.0</td>\n",
       "    </tr>\n",
       "    <tr>\n",
       "      <th>3</th>\n",
       "      <td>4.6</td>\n",
       "      <td>3.1</td>\n",
       "      <td>1.5</td>\n",
       "      <td>0.2</td>\n",
       "      <td>0.0</td>\n",
       "    </tr>\n",
       "    <tr>\n",
       "      <th>4</th>\n",
       "      <td>5.0</td>\n",
       "      <td>3.6</td>\n",
       "      <td>1.4</td>\n",
       "      <td>0.2</td>\n",
       "      <td>0.0</td>\n",
       "    </tr>\n",
       "    <tr>\n",
       "      <th>...</th>\n",
       "      <td>...</td>\n",
       "      <td>...</td>\n",
       "      <td>...</td>\n",
       "      <td>...</td>\n",
       "      <td>...</td>\n",
       "    </tr>\n",
       "    <tr>\n",
       "      <th>145</th>\n",
       "      <td>6.7</td>\n",
       "      <td>3.0</td>\n",
       "      <td>5.2</td>\n",
       "      <td>2.3</td>\n",
       "      <td>2.0</td>\n",
       "    </tr>\n",
       "    <tr>\n",
       "      <th>146</th>\n",
       "      <td>6.3</td>\n",
       "      <td>2.5</td>\n",
       "      <td>5.0</td>\n",
       "      <td>1.9</td>\n",
       "      <td>2.0</td>\n",
       "    </tr>\n",
       "    <tr>\n",
       "      <th>147</th>\n",
       "      <td>6.5</td>\n",
       "      <td>3.0</td>\n",
       "      <td>5.2</td>\n",
       "      <td>2.0</td>\n",
       "      <td>2.0</td>\n",
       "    </tr>\n",
       "    <tr>\n",
       "      <th>148</th>\n",
       "      <td>6.2</td>\n",
       "      <td>3.4</td>\n",
       "      <td>5.4</td>\n",
       "      <td>2.3</td>\n",
       "      <td>2.0</td>\n",
       "    </tr>\n",
       "    <tr>\n",
       "      <th>149</th>\n",
       "      <td>5.9</td>\n",
       "      <td>3.0</td>\n",
       "      <td>5.1</td>\n",
       "      <td>1.8</td>\n",
       "      <td>2.0</td>\n",
       "    </tr>\n",
       "  </tbody>\n",
       "</table>\n",
       "<p>150 rows × 5 columns</p>\n",
       "</div>"
      ],
      "text/plain": [
       "     sepal length (cm)  sepal width (cm)  petal length (cm)  petal width (cm)  \\\n",
       "0                  5.1               3.5                1.4               0.2   \n",
       "1                  4.9               3.0                1.4               0.2   \n",
       "2                  4.7               3.2                1.3               0.2   \n",
       "3                  4.6               3.1                1.5               0.2   \n",
       "4                  5.0               3.6                1.4               0.2   \n",
       "..                 ...               ...                ...               ...   \n",
       "145                6.7               3.0                5.2               2.3   \n",
       "146                6.3               2.5                5.0               1.9   \n",
       "147                6.5               3.0                5.2               2.0   \n",
       "148                6.2               3.4                5.4               2.3   \n",
       "149                5.9               3.0                5.1               1.8   \n",
       "\n",
       "     target  \n",
       "0       0.0  \n",
       "1       0.0  \n",
       "2       0.0  \n",
       "3       0.0  \n",
       "4       0.0  \n",
       "..      ...  \n",
       "145     2.0  \n",
       "146     2.0  \n",
       "147     2.0  \n",
       "148     2.0  \n",
       "149     2.0  \n",
       "\n",
       "[150 rows x 5 columns]"
      ]
     },
     "execution_count": 1,
     "metadata": {},
     "output_type": "execute_result"
    }
   ],
   "source": [
    "import matplotlib.pyplot as plt\n",
    "import numpy as np\n",
    "import pandas as pd\n",
    "from sklearn.neighbors import KNeighborsClassifier\n",
    "from sklearn.model_selection import train_test_split\n",
    "from sklearn.preprocessing import MinMaxScaler\n",
    "from sklearn import datasets\n",
    "import warnings\n",
    "warnings.simplefilter(action='ignore', category=FutureWarning) #ignoramos las advertencias futuras\n",
    "#Nota: se genera una advertencia debido a un problema de compatibilidad de KNN con otras versiones\n",
    "\n",
    "iris = datasets.load_iris() #cargamos el dataset\n",
    "\n",
    "#convertimos el dataset a un Dataframe de pandas\n",
    "df = pd.DataFrame(data= np.c_[iris['data'], iris['target']],\n",
    "                     columns= iris['feature_names'] + ['target']) \n",
    "\n",
    "df"
   ]
  },
  {
   "cell_type": "code",
   "execution_count": 2,
   "id": "3a789660",
   "metadata": {},
   "outputs": [],
   "source": [
    "#Separamos entre los valores y la clase del dataframe\n",
    "X = df[['sepal length (cm)','sepal width (cm)','petal length (cm)','petal width (cm)']].values\n",
    "Y = df['target'].values\n",
    "\n",
    "#con ayuda de la funcion \"train_test_split\", dividiremos el dataset de iris de forma aleatoria,\n",
    "#otorgando un 80% del dataset para entrenamiento y un 20% para pruebas\n",
    "Xtr, Xts, Ytr, Yts = train_test_split(X, Y, random_state=0)\n",
    "\n",
    "#definimos un escalador, esto nos ayuda para realizar KNN, lo cual nos convierte los valores en una escala entre o y 1\n",
    "scaler = MinMaxScaler()\n",
    "\n",
    "#convertimos nuestros datos en funcion del escalador\n",
    "Xtr = scaler.fit_transform(Xtr)\n",
    "Xts = scaler.transform(Xts)"
   ]
  },
  {
   "cell_type": "code",
   "execution_count": 5,
   "id": "a79a115c",
   "metadata": {},
   "outputs": [
    {
     "data": {
      "image/png": "[encoded data removed]",
      "text/plain": [
       "<Figure size 640x480 with 1 Axes>"
      ]
     },
     "metadata": {},
     "output_type": "display_data"
    }
   ],
   "source": [
    "#para realizar el algoritmo de KNN, deberemos determinar un valor de K en el cual podamos obtener la mejor precision\n",
    "#asi que revisaremos los primeros 20 valores de k, para ver cual es el optimo\n",
    "Ks = range(1, 20)\n",
    "Precision = []\n",
    "for K in Ks:\n",
    "    KNN = KNeighborsClassifier(n_neighbors = K)\n",
    "    KNN.fit(Xtr, Ytr)\n",
    "    Precision.append(KNN.score(Xts, Yts))\n",
    "plt.figure()\n",
    "plt.xlabel('K')\n",
    "plt.ylabel('Precision')\n",
    "plt.scatter(Ks, Precision)\n",
    "plt.xticks(list(range(20)))\n",
    "plt.yticks([0.90,0.92,0.94,0.96,0.98,1])\n",
    "plt.show()"
   ]
  },
  {
   "cell_type": "code",
   "execution_count": 6,
   "id": "323f8372",
   "metadata": {},
   "outputs": [
    {
     "data": {
      "image/png": "[encoded data removed]",
      "text/plain": [
       "<Figure size 640x480 with 1 Axes>"
      ]
     },
     "metadata": {},
     "output_type": "display_data"
    },
    {
     "name": "stdout",
     "output_type": "stream",
     "text": [
      "[2. 1. 0. 2. 0. 2. 0. 1. 1. 1. 2. 1. 1. 1. 1. 0. 1. 1. 0. 0. 2. 1. 0. 0.\n",
      " 2. 0. 0. 1. 1. 0. 2. 1. 0. 2. 2. 1. 0. 1.]\n",
      "[2. 1. 0. 2. 0. 2. 0. 1. 1. 1. 2. 1. 1. 1. 1. 0. 1. 1. 0. 0. 2. 1. 0. 0.\n",
      " 2. 0. 0. 1. 1. 0. 2. 1. 0. 2. 2. 1. 0. 2.]\n"
     ]
    }
   ],
   "source": [
    "#La grafica anterior nos muestra una comparativa entre los valores de K y la precision\n",
    "#bajo esto utilizaremos un valor de K=3 para realizar los calculos\n",
    "K = 3\n",
    " \n",
    "KNN = KNeighborsClassifier(K)\n",
    "KNN.fit(Xtr, Ytr)\n",
    "\n",
    "#Ahora que tenemos cargado nuestro predictor, lo probaremos con los datos de prueba\n",
    "Py = KNN.predict(Xts)\n",
    "\n",
    "fig = plt.figure()\n",
    "#Crearemos un grafico con las clases obtenidas, en donde si el resultado coincide con lo esperado\n",
    "#se pintara de verde, caso contrario lo pintara de rojo.\n",
    "for i in range(len(Yts)):\n",
    "    if(Yts[i]==Py[i]):\n",
    "        plt.scatter(i, Py[i], c=\"green\",s=20)\n",
    "    else:\n",
    "        plt.scatter(i, Py[i], c=\"red\",s=20)   \n",
    "plt.title(\"evaluacion de resultados\")\n",
    "plt.show()\n",
    "\n",
    "print(Yts)\n",
    "print(Py)"
   ]
  },
  {
   "cell_type": "code",
   "execution_count": 8,
   "id": "107cad18",
   "metadata": {},
   "outputs": [
    {
     "name": "stdout",
     "output_type": "stream",
     "text": [
      "Similaridad del coseno = 0.9910438094089646\n"
     ]
    }
   ],
   "source": [
    "from sklearn.metrics.pairwise import cosine_similarity,cosine_distances\n",
    "#Podemos observar que falla 1 de cada 20 iteraciones, para finalizar calcularemos la similaridad del coseno\n",
    "#para medir la eficiencia del algoritmo\n",
    "result = cosine_similarity(np.array([KNN.predict(Xts)]).reshape(1,-1),np.array([Yts]).reshape(1,-1))\n",
    "\n",
    "print(\"Similaridad del coseno =\",result[0][0])"
   ]
  },
  {
   "cell_type": "code",
   "execution_count": null,
   "id": "b6029fae",
   "metadata": {},
   "outputs": [],
   "source": []
  }
 ],
 "metadata": {
  "kernelspec": {
   "display_name": "Python 3 (ipykernel)",
   "language": "python",
   "name": "python3"
  },
  "language_info": {
   "codemirror_mode": {
    "name": "ipython",
    "version": 3
   },
   "file_extension": ".py",
   "mimetype": "text/x-python",
   "name": "python",
   "nbconvert_exporter": "python",
   "pygments_lexer": "ipython3",
   "version": "3.9.13"
  }
 },
 "nbformat": 4,
 "nbformat_minor": 5
}
