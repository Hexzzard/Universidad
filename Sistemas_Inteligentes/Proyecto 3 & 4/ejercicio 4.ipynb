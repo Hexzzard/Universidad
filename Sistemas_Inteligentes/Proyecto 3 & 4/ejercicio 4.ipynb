{
 "cells": [
  {
   "cell_type": "code",
   "execution_count": 1,
   "id": "8ad54338",
   "metadata": {},
   "outputs": [
    {
     "name": "stdout",
     "output_type": "stream",
     "text": [
      "Similaridad del coseno de A y B = 0.8215838362577493\n",
      "calculo alternativo 1: 0.8215838362577491\n",
      "calculo alternativo 2: 0.8215838362577491\n",
      "\n",
      "Similaridad del coseno de P y Q = 0.6660748630287956\n",
      "calculo alternativo 1: 0.6660748630287956\n",
      "calculo alternativo 2: 0.6660748630287956\n",
      "\n",
      "Similaridad del coseno de S y T = 0.9303279922126619\n",
      "calculo alternativo 1: 0.9303279922126619\n",
      "calculo alternativo 2: 0.9303279922126619\n",
      "\n"
     ]
    }
   ],
   "source": [
    "from numpy import dot\n",
    "import numpy as np\n",
    "from numpy.linalg import norm\n",
    "from sklearn.metrics.pairwise import cosine_similarity\n",
    "from scipy import spatial\n",
    "import math\n",
    "\n",
    "#datos para el calculo de la similaridad del coseno\n",
    "A = [2,1,0,2,0,1,1,1]\n",
    "B = [2,1,1,1,1,0,1,1]\n",
    "P = [1,2,3,0,4,6,7,9]\n",
    "Q = [2,4,3,1,8,2,4,1]\n",
    "S = [2,1,4,7,1,4,5,6]\n",
    "T = [3,3,3,6,1,1,7,8]\n",
    "\n",
    "#para calcular la distancia del coseno la formula nos dice que\n",
    "#el coseno del angulo es igual a el producto escalar de dos matrices partido por el producto de las normas de las respectivas matrices\n",
    "#es decir (V · U)/((¯V)(¯U))\n",
    "#esto lo calculamos mediante la funcion dot, que nos determina el producto punto de las matrices, y norm, que nos da la norma de dicho vector\n",
    "Test = [[A,B],[P,Q],[S,T]]\n",
    "Name = [\"A y B\", \"P y Q\", \"S y T\"]\n",
    "Cos = []\n",
    "for i in range(len(Test)):\n",
    "    #utilizamos la funcion cosine_similarity de sklearn\n",
    "    Cos.append(cosine_similarity(np.array(Test[i][0]).reshape(1,-1),np.array(Test[i][1]).reshape(1,-1))[0][0])\n",
    "    print(\"Similaridad del coseno de\",Name[i],\"=\",Cos[i])\n",
    "    #formas alternativas para calcular la similitud del coseno\n",
    "\n",
    "    #calculo mediante la expresion algebraica\n",
    "    Res2 = dot(Test[i][0], Test[i][1])/(norm(Test[i][0])*norm(Test[i][1]))\n",
    "    #calculo mediante la funcion spatial.distance de scipy\n",
    "    Res3 = 1 - spatial.distance.cosine(Test[i][0], Test[i][1])\n",
    "    print(\"calculo alternativo 1:\", Res2)\n",
    "    print(\"calculo alternativo 2:\", Res2)\n",
    "    print(\"\")\n"
   ]
  },
  {
   "cell_type": "code",
   "execution_count": 2,
   "id": "91d1f361",
   "metadata": {},
   "outputs": [
    {
     "name": "stdout",
     "output_type": "stream",
     "text": [
      "thetha de A y B = 34.756342442638655 °\n",
      "thetha de P y Q = 48.235161122550586 °\n",
      "thetha de S y T = 21.513999195592337 °\n"
     ]
    }
   ],
   "source": [
    "#hemos calculado el coseno del angulo, y para determinar el angulo debemos determinar el cos-1\n",
    "for i in range(len(Cos)):\n",
    "    thetha = math.degrees(math.acos(Cos[i]))\n",
    "    print(\"thetha de\",Name[i],\"=\", thetha,\"°\")"
   ]
  },
  {
   "cell_type": "code",
   "execution_count": 3,
   "id": "c88fea66",
   "metadata": {},
   "outputs": [
    {
     "name": "stdout",
     "output_type": "stream",
     "text": [
      "\n",
      "Nota:\n",
      "si thetha vale 0rad, quiere decir que no hay un angulo entre dos vectores, lo que se puede interpretar como que ambos\n",
      "vectores son exactamente iguales.\n",
      "\n",
      "Si thetha vale 1/2π rad (90°), quiere decir que ambos vectores son perpendiculares entre si, lo cual lo podemos \n",
      "interpretar que son completamente distintos.\n",
      "\n"
     ]
    }
   ],
   "source": [
    "Nota='''\n",
    "Nota:\n",
    "si thetha vale 0rad, quiere decir que no hay un angulo entre dos vectores, lo que se puede interpretar como que ambos\n",
    "vectores son exactamente iguales.\n",
    "\n",
    "Si thetha vale 1/2π rad (90°), quiere decir que ambos vectores son perpendiculares entre si, lo cual lo podemos \n",
    "interpretar que son completamente distintos.\n",
    "'''\n",
    "print(Nota)"
   ]
  },
  {
   "cell_type": "code",
   "execution_count": null,
   "id": "9742b762",
   "metadata": {},
   "outputs": [],
   "source": []
  }
 ],
 "metadata": {
  "kernelspec": {
   "display_name": "Python 3 (ipykernel)",
   "language": "python",
   "name": "python3"
  },
  "language_info": {
   "codemirror_mode": {
    "name": "ipython",
    "version": 3
   },
   "file_extension": ".py",
   "mimetype": "text/x-python",
   "name": "python",
   "nbconvert_exporter": "python",
   "pygments_lexer": "ipython3",
   "version": "3.9.13"
  },
  "vscode": {
   "interpreter": {
    "hash": "7ebc1eb35f32f2d1732ced6f45c83a8bd535659c5962c081e46b513704879fea"
   }
  }
 },
 "nbformat": 4,
 "nbformat_minor": 5
}
